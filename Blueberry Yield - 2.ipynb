{
 "cells": [
  {
   "cell_type": "code",
   "execution_count": 1,
   "id": "1bbd7baa",
   "metadata": {},
   "outputs": [],
   "source": [
    "import pandas as pd\n",
    "import numpy as np\n",
    "import matplotlib.pyplot as plt\n",
    "import seaborn as sns"
   ]
  },
  {
   "cell_type": "code",
   "execution_count": 2,
   "id": "85a1e065",
   "metadata": {},
   "outputs": [
    {
     "name": "stdout",
     "output_type": "stream",
     "text": [
      "C:\\Users\\ykkou\\Desktop\\imarticus\\Tutorial Datasets\\Blueberry Yield\n"
     ]
    }
   ],
   "source": [
    "import io\n",
    "%cd \"C:\\Users\\ykkou\\Desktop\\imarticus\\Tutorial Datasets\\Blueberry Yield\""
   ]
  },
  {
   "cell_type": "code",
   "execution_count": 185,
   "id": "a738d503",
   "metadata": {},
   "outputs": [],
   "source": [
    "train_df = pd.read_csv('train.csv')\n",
    "test_df = pd.read_csv('test.csv')\n"
   ]
  },
  {
   "cell_type": "code",
   "execution_count": 9,
   "id": "48be9d45",
   "metadata": {},
   "outputs": [
    {
     "data": {
      "text/html": [
       "<div>\n",
       "<style scoped>\n",
       "    .dataframe tbody tr th:only-of-type {\n",
       "        vertical-align: middle;\n",
       "    }\n",
       "\n",
       "    .dataframe tbody tr th {\n",
       "        vertical-align: top;\n",
       "    }\n",
       "\n",
       "    .dataframe thead th {\n",
       "        text-align: right;\n",
       "    }\n",
       "</style>\n",
       "<table border=\"1\" class=\"dataframe\">\n",
       "  <thead>\n",
       "    <tr style=\"text-align: right;\">\n",
       "      <th></th>\n",
       "      <th>id</th>\n",
       "      <th>clonesize</th>\n",
       "      <th>honeybee</th>\n",
       "      <th>bumbles</th>\n",
       "      <th>andrena</th>\n",
       "      <th>osmia</th>\n",
       "      <th>MaxOfUpperTRange</th>\n",
       "      <th>MinOfUpperTRange</th>\n",
       "      <th>AverageOfUpperTRange</th>\n",
       "      <th>MaxOfLowerTRange</th>\n",
       "      <th>MinOfLowerTRange</th>\n",
       "      <th>AverageOfLowerTRange</th>\n",
       "      <th>RainingDays</th>\n",
       "      <th>AverageRainingDays</th>\n",
       "      <th>fruitset</th>\n",
       "      <th>fruitmass</th>\n",
       "      <th>seeds</th>\n",
       "      <th>yield</th>\n",
       "    </tr>\n",
       "  </thead>\n",
       "  <tbody>\n",
       "    <tr>\n",
       "      <th>0</th>\n",
       "      <td>0</td>\n",
       "      <td>25.0</td>\n",
       "      <td>0.50</td>\n",
       "      <td>0.25</td>\n",
       "      <td>0.75</td>\n",
       "      <td>0.50</td>\n",
       "      <td>69.7</td>\n",
       "      <td>42.1</td>\n",
       "      <td>58.2</td>\n",
       "      <td>50.2</td>\n",
       "      <td>24.3</td>\n",
       "      <td>41.2</td>\n",
       "      <td>24.0</td>\n",
       "      <td>0.39</td>\n",
       "      <td>0.425011</td>\n",
       "      <td>0.417545</td>\n",
       "      <td>32.460887</td>\n",
       "      <td>4476.81146</td>\n",
       "    </tr>\n",
       "    <tr>\n",
       "      <th>1</th>\n",
       "      <td>1</td>\n",
       "      <td>25.0</td>\n",
       "      <td>0.50</td>\n",
       "      <td>0.25</td>\n",
       "      <td>0.50</td>\n",
       "      <td>0.50</td>\n",
       "      <td>69.7</td>\n",
       "      <td>42.1</td>\n",
       "      <td>58.2</td>\n",
       "      <td>50.2</td>\n",
       "      <td>24.3</td>\n",
       "      <td>41.2</td>\n",
       "      <td>24.0</td>\n",
       "      <td>0.39</td>\n",
       "      <td>0.444908</td>\n",
       "      <td>0.422051</td>\n",
       "      <td>33.858317</td>\n",
       "      <td>5548.12201</td>\n",
       "    </tr>\n",
       "    <tr>\n",
       "      <th>2</th>\n",
       "      <td>2</td>\n",
       "      <td>12.5</td>\n",
       "      <td>0.25</td>\n",
       "      <td>0.25</td>\n",
       "      <td>0.63</td>\n",
       "      <td>0.63</td>\n",
       "      <td>86.0</td>\n",
       "      <td>52.0</td>\n",
       "      <td>71.9</td>\n",
       "      <td>62.0</td>\n",
       "      <td>30.0</td>\n",
       "      <td>50.8</td>\n",
       "      <td>24.0</td>\n",
       "      <td>0.39</td>\n",
       "      <td>0.552927</td>\n",
       "      <td>0.470853</td>\n",
       "      <td>38.341781</td>\n",
       "      <td>6869.77760</td>\n",
       "    </tr>\n",
       "    <tr>\n",
       "      <th>3</th>\n",
       "      <td>3</td>\n",
       "      <td>12.5</td>\n",
       "      <td>0.25</td>\n",
       "      <td>0.25</td>\n",
       "      <td>0.63</td>\n",
       "      <td>0.50</td>\n",
       "      <td>77.4</td>\n",
       "      <td>46.8</td>\n",
       "      <td>64.7</td>\n",
       "      <td>55.8</td>\n",
       "      <td>27.0</td>\n",
       "      <td>45.8</td>\n",
       "      <td>24.0</td>\n",
       "      <td>0.39</td>\n",
       "      <td>0.565976</td>\n",
       "      <td>0.478137</td>\n",
       "      <td>39.467561</td>\n",
       "      <td>6880.77590</td>\n",
       "    </tr>\n",
       "    <tr>\n",
       "      <th>4</th>\n",
       "      <td>4</td>\n",
       "      <td>25.0</td>\n",
       "      <td>0.50</td>\n",
       "      <td>0.25</td>\n",
       "      <td>0.63</td>\n",
       "      <td>0.63</td>\n",
       "      <td>77.4</td>\n",
       "      <td>46.8</td>\n",
       "      <td>64.7</td>\n",
       "      <td>55.8</td>\n",
       "      <td>27.0</td>\n",
       "      <td>45.8</td>\n",
       "      <td>24.0</td>\n",
       "      <td>0.39</td>\n",
       "      <td>0.579677</td>\n",
       "      <td>0.494165</td>\n",
       "      <td>40.484512</td>\n",
       "      <td>7479.93417</td>\n",
       "    </tr>\n",
       "    <tr>\n",
       "      <th>...</th>\n",
       "      <td>...</td>\n",
       "      <td>...</td>\n",
       "      <td>...</td>\n",
       "      <td>...</td>\n",
       "      <td>...</td>\n",
       "      <td>...</td>\n",
       "      <td>...</td>\n",
       "      <td>...</td>\n",
       "      <td>...</td>\n",
       "      <td>...</td>\n",
       "      <td>...</td>\n",
       "      <td>...</td>\n",
       "      <td>...</td>\n",
       "      <td>...</td>\n",
       "      <td>...</td>\n",
       "      <td>...</td>\n",
       "      <td>...</td>\n",
       "      <td>...</td>\n",
       "    </tr>\n",
       "    <tr>\n",
       "      <th>15284</th>\n",
       "      <td>15284</td>\n",
       "      <td>12.5</td>\n",
       "      <td>0.25</td>\n",
       "      <td>0.25</td>\n",
       "      <td>0.38</td>\n",
       "      <td>0.50</td>\n",
       "      <td>77.4</td>\n",
       "      <td>46.8</td>\n",
       "      <td>64.7</td>\n",
       "      <td>55.8</td>\n",
       "      <td>27.0</td>\n",
       "      <td>45.8</td>\n",
       "      <td>16.0</td>\n",
       "      <td>0.26</td>\n",
       "      <td>0.556302</td>\n",
       "      <td>0.476308</td>\n",
       "      <td>40.546480</td>\n",
       "      <td>7667.83619</td>\n",
       "    </tr>\n",
       "    <tr>\n",
       "      <th>15285</th>\n",
       "      <td>15285</td>\n",
       "      <td>12.5</td>\n",
       "      <td>0.25</td>\n",
       "      <td>0.25</td>\n",
       "      <td>0.25</td>\n",
       "      <td>0.50</td>\n",
       "      <td>86.0</td>\n",
       "      <td>52.0</td>\n",
       "      <td>71.9</td>\n",
       "      <td>62.0</td>\n",
       "      <td>30.0</td>\n",
       "      <td>50.8</td>\n",
       "      <td>34.0</td>\n",
       "      <td>0.56</td>\n",
       "      <td>0.354413</td>\n",
       "      <td>0.388145</td>\n",
       "      <td>29.467434</td>\n",
       "      <td>3680.56025</td>\n",
       "    </tr>\n",
       "    <tr>\n",
       "      <th>15286</th>\n",
       "      <td>15286</td>\n",
       "      <td>25.0</td>\n",
       "      <td>0.50</td>\n",
       "      <td>0.25</td>\n",
       "      <td>0.38</td>\n",
       "      <td>0.75</td>\n",
       "      <td>77.4</td>\n",
       "      <td>46.8</td>\n",
       "      <td>64.7</td>\n",
       "      <td>55.8</td>\n",
       "      <td>27.0</td>\n",
       "      <td>45.8</td>\n",
       "      <td>34.0</td>\n",
       "      <td>0.56</td>\n",
       "      <td>0.422548</td>\n",
       "      <td>0.416786</td>\n",
       "      <td>32.299059</td>\n",
       "      <td>4696.44394</td>\n",
       "    </tr>\n",
       "    <tr>\n",
       "      <th>15287</th>\n",
       "      <td>15287</td>\n",
       "      <td>25.0</td>\n",
       "      <td>0.50</td>\n",
       "      <td>0.25</td>\n",
       "      <td>0.63</td>\n",
       "      <td>0.63</td>\n",
       "      <td>69.7</td>\n",
       "      <td>42.1</td>\n",
       "      <td>58.2</td>\n",
       "      <td>50.2</td>\n",
       "      <td>24.3</td>\n",
       "      <td>41.2</td>\n",
       "      <td>24.0</td>\n",
       "      <td>0.39</td>\n",
       "      <td>0.542170</td>\n",
       "      <td>0.434133</td>\n",
       "      <td>36.674243</td>\n",
       "      <td>6772.93347</td>\n",
       "    </tr>\n",
       "    <tr>\n",
       "      <th>15288</th>\n",
       "      <td>15288</td>\n",
       "      <td>25.0</td>\n",
       "      <td>0.50</td>\n",
       "      <td>0.25</td>\n",
       "      <td>0.63</td>\n",
       "      <td>0.50</td>\n",
       "      <td>77.4</td>\n",
       "      <td>46.8</td>\n",
       "      <td>64.7</td>\n",
       "      <td>55.8</td>\n",
       "      <td>27.0</td>\n",
       "      <td>45.8</td>\n",
       "      <td>16.0</td>\n",
       "      <td>0.26</td>\n",
       "      <td>0.492077</td>\n",
       "      <td>0.446576</td>\n",
       "      <td>35.094733</td>\n",
       "      <td>5867.99722</td>\n",
       "    </tr>\n",
       "  </tbody>\n",
       "</table>\n",
       "<p>15289 rows × 18 columns</p>\n",
       "</div>"
      ],
      "text/plain": [
       "          id  clonesize  honeybee  bumbles  andrena  osmia  MaxOfUpperTRange  \\\n",
       "0          0       25.0      0.50     0.25     0.75   0.50              69.7   \n",
       "1          1       25.0      0.50     0.25     0.50   0.50              69.7   \n",
       "2          2       12.5      0.25     0.25     0.63   0.63              86.0   \n",
       "3          3       12.5      0.25     0.25     0.63   0.50              77.4   \n",
       "4          4       25.0      0.50     0.25     0.63   0.63              77.4   \n",
       "...      ...        ...       ...      ...      ...    ...               ...   \n",
       "15284  15284       12.5      0.25     0.25     0.38   0.50              77.4   \n",
       "15285  15285       12.5      0.25     0.25     0.25   0.50              86.0   \n",
       "15286  15286       25.0      0.50     0.25     0.38   0.75              77.4   \n",
       "15287  15287       25.0      0.50     0.25     0.63   0.63              69.7   \n",
       "15288  15288       25.0      0.50     0.25     0.63   0.50              77.4   \n",
       "\n",
       "       MinOfUpperTRange  AverageOfUpperTRange  MaxOfLowerTRange  \\\n",
       "0                  42.1                  58.2              50.2   \n",
       "1                  42.1                  58.2              50.2   \n",
       "2                  52.0                  71.9              62.0   \n",
       "3                  46.8                  64.7              55.8   \n",
       "4                  46.8                  64.7              55.8   \n",
       "...                 ...                   ...               ...   \n",
       "15284              46.8                  64.7              55.8   \n",
       "15285              52.0                  71.9              62.0   \n",
       "15286              46.8                  64.7              55.8   \n",
       "15287              42.1                  58.2              50.2   \n",
       "15288              46.8                  64.7              55.8   \n",
       "\n",
       "       MinOfLowerTRange  AverageOfLowerTRange  RainingDays  \\\n",
       "0                  24.3                  41.2         24.0   \n",
       "1                  24.3                  41.2         24.0   \n",
       "2                  30.0                  50.8         24.0   \n",
       "3                  27.0                  45.8         24.0   \n",
       "4                  27.0                  45.8         24.0   \n",
       "...                 ...                   ...          ...   \n",
       "15284              27.0                  45.8         16.0   \n",
       "15285              30.0                  50.8         34.0   \n",
       "15286              27.0                  45.8         34.0   \n",
       "15287              24.3                  41.2         24.0   \n",
       "15288              27.0                  45.8         16.0   \n",
       "\n",
       "       AverageRainingDays  fruitset  fruitmass      seeds       yield  \n",
       "0                    0.39  0.425011   0.417545  32.460887  4476.81146  \n",
       "1                    0.39  0.444908   0.422051  33.858317  5548.12201  \n",
       "2                    0.39  0.552927   0.470853  38.341781  6869.77760  \n",
       "3                    0.39  0.565976   0.478137  39.467561  6880.77590  \n",
       "4                    0.39  0.579677   0.494165  40.484512  7479.93417  \n",
       "...                   ...       ...        ...        ...         ...  \n",
       "15284                0.26  0.556302   0.476308  40.546480  7667.83619  \n",
       "15285                0.56  0.354413   0.388145  29.467434  3680.56025  \n",
       "15286                0.56  0.422548   0.416786  32.299059  4696.44394  \n",
       "15287                0.39  0.542170   0.434133  36.674243  6772.93347  \n",
       "15288                0.26  0.492077   0.446576  35.094733  5867.99722  \n",
       "\n",
       "[15289 rows x 18 columns]"
      ]
     },
     "execution_count": 9,
     "metadata": {},
     "output_type": "execute_result"
    }
   ],
   "source": [
    "train_df"
   ]
  },
  {
   "cell_type": "code",
   "execution_count": 10,
   "id": "065d93a6",
   "metadata": {},
   "outputs": [
    {
     "data": {
      "text/html": [
       "<div>\n",
       "<style scoped>\n",
       "    .dataframe tbody tr th:only-of-type {\n",
       "        vertical-align: middle;\n",
       "    }\n",
       "\n",
       "    .dataframe tbody tr th {\n",
       "        vertical-align: top;\n",
       "    }\n",
       "\n",
       "    .dataframe thead th {\n",
       "        text-align: right;\n",
       "    }\n",
       "</style>\n",
       "<table border=\"1\" class=\"dataframe\">\n",
       "  <thead>\n",
       "    <tr style=\"text-align: right;\">\n",
       "      <th></th>\n",
       "      <th>id</th>\n",
       "      <th>clonesize</th>\n",
       "      <th>honeybee</th>\n",
       "      <th>bumbles</th>\n",
       "      <th>andrena</th>\n",
       "      <th>osmia</th>\n",
       "      <th>MaxOfUpperTRange</th>\n",
       "      <th>MinOfUpperTRange</th>\n",
       "      <th>AverageOfUpperTRange</th>\n",
       "      <th>MaxOfLowerTRange</th>\n",
       "      <th>MinOfLowerTRange</th>\n",
       "      <th>AverageOfLowerTRange</th>\n",
       "      <th>RainingDays</th>\n",
       "      <th>AverageRainingDays</th>\n",
       "      <th>fruitset</th>\n",
       "      <th>fruitmass</th>\n",
       "      <th>seeds</th>\n",
       "    </tr>\n",
       "  </thead>\n",
       "  <tbody>\n",
       "    <tr>\n",
       "      <th>0</th>\n",
       "      <td>15289</td>\n",
       "      <td>25.0</td>\n",
       "      <td>0.25</td>\n",
       "      <td>0.25</td>\n",
       "      <td>0.25</td>\n",
       "      <td>0.25</td>\n",
       "      <td>86.0</td>\n",
       "      <td>52.0</td>\n",
       "      <td>71.9</td>\n",
       "      <td>62.0</td>\n",
       "      <td>30.0</td>\n",
       "      <td>50.8</td>\n",
       "      <td>24.0</td>\n",
       "      <td>0.39</td>\n",
       "      <td>0.399367</td>\n",
       "      <td>0.408088</td>\n",
       "      <td>31.394569</td>\n",
       "    </tr>\n",
       "    <tr>\n",
       "      <th>1</th>\n",
       "      <td>15290</td>\n",
       "      <td>12.5</td>\n",
       "      <td>0.25</td>\n",
       "      <td>0.25</td>\n",
       "      <td>0.75</td>\n",
       "      <td>0.63</td>\n",
       "      <td>94.6</td>\n",
       "      <td>57.2</td>\n",
       "      <td>79.0</td>\n",
       "      <td>68.2</td>\n",
       "      <td>33.0</td>\n",
       "      <td>55.9</td>\n",
       "      <td>1.0</td>\n",
       "      <td>0.10</td>\n",
       "      <td>0.488048</td>\n",
       "      <td>0.442866</td>\n",
       "      <td>36.846956</td>\n",
       "    </tr>\n",
       "    <tr>\n",
       "      <th>2</th>\n",
       "      <td>15291</td>\n",
       "      <td>12.5</td>\n",
       "      <td>0.25</td>\n",
       "      <td>0.25</td>\n",
       "      <td>0.63</td>\n",
       "      <td>0.63</td>\n",
       "      <td>86.0</td>\n",
       "      <td>52.0</td>\n",
       "      <td>71.9</td>\n",
       "      <td>62.0</td>\n",
       "      <td>30.0</td>\n",
       "      <td>50.8</td>\n",
       "      <td>16.0</td>\n",
       "      <td>0.26</td>\n",
       "      <td>0.583379</td>\n",
       "      <td>0.487057</td>\n",
       "      <td>40.037644</td>\n",
       "    </tr>\n",
       "    <tr>\n",
       "      <th>3</th>\n",
       "      <td>15292</td>\n",
       "      <td>25.0</td>\n",
       "      <td>0.50</td>\n",
       "      <td>0.38</td>\n",
       "      <td>0.38</td>\n",
       "      <td>0.63</td>\n",
       "      <td>86.0</td>\n",
       "      <td>52.0</td>\n",
       "      <td>71.9</td>\n",
       "      <td>62.0</td>\n",
       "      <td>30.0</td>\n",
       "      <td>50.8</td>\n",
       "      <td>16.0</td>\n",
       "      <td>0.26</td>\n",
       "      <td>0.433014</td>\n",
       "      <td>0.422847</td>\n",
       "      <td>33.116091</td>\n",
       "    </tr>\n",
       "    <tr>\n",
       "      <th>4</th>\n",
       "      <td>15293</td>\n",
       "      <td>37.5</td>\n",
       "      <td>0.75</td>\n",
       "      <td>0.25</td>\n",
       "      <td>0.25</td>\n",
       "      <td>0.25</td>\n",
       "      <td>94.6</td>\n",
       "      <td>57.2</td>\n",
       "      <td>79.0</td>\n",
       "      <td>68.2</td>\n",
       "      <td>33.0</td>\n",
       "      <td>55.9</td>\n",
       "      <td>24.0</td>\n",
       "      <td>0.39</td>\n",
       "      <td>0.360996</td>\n",
       "      <td>0.388860</td>\n",
       "      <td>29.558019</td>\n",
       "    </tr>\n",
       "    <tr>\n",
       "      <th>...</th>\n",
       "      <td>...</td>\n",
       "      <td>...</td>\n",
       "      <td>...</td>\n",
       "      <td>...</td>\n",
       "      <td>...</td>\n",
       "      <td>...</td>\n",
       "      <td>...</td>\n",
       "      <td>...</td>\n",
       "      <td>...</td>\n",
       "      <td>...</td>\n",
       "      <td>...</td>\n",
       "      <td>...</td>\n",
       "      <td>...</td>\n",
       "      <td>...</td>\n",
       "      <td>...</td>\n",
       "      <td>...</td>\n",
       "      <td>...</td>\n",
       "    </tr>\n",
       "    <tr>\n",
       "      <th>10189</th>\n",
       "      <td>25478</td>\n",
       "      <td>25.0</td>\n",
       "      <td>0.25</td>\n",
       "      <td>0.25</td>\n",
       "      <td>0.25</td>\n",
       "      <td>0.25</td>\n",
       "      <td>86.0</td>\n",
       "      <td>52.0</td>\n",
       "      <td>71.9</td>\n",
       "      <td>62.0</td>\n",
       "      <td>30.0</td>\n",
       "      <td>50.8</td>\n",
       "      <td>24.0</td>\n",
       "      <td>0.39</td>\n",
       "      <td>0.474162</td>\n",
       "      <td>0.437923</td>\n",
       "      <td>34.525258</td>\n",
       "    </tr>\n",
       "    <tr>\n",
       "      <th>10190</th>\n",
       "      <td>25479</td>\n",
       "      <td>25.0</td>\n",
       "      <td>0.50</td>\n",
       "      <td>0.25</td>\n",
       "      <td>0.50</td>\n",
       "      <td>0.75</td>\n",
       "      <td>77.4</td>\n",
       "      <td>46.8</td>\n",
       "      <td>64.7</td>\n",
       "      <td>55.8</td>\n",
       "      <td>27.0</td>\n",
       "      <td>45.8</td>\n",
       "      <td>16.0</td>\n",
       "      <td>0.26</td>\n",
       "      <td>0.482854</td>\n",
       "      <td>0.440676</td>\n",
       "      <td>35.648221</td>\n",
       "    </tr>\n",
       "    <tr>\n",
       "      <th>10191</th>\n",
       "      <td>25480</td>\n",
       "      <td>25.0</td>\n",
       "      <td>0.50</td>\n",
       "      <td>0.38</td>\n",
       "      <td>0.50</td>\n",
       "      <td>0.50</td>\n",
       "      <td>77.4</td>\n",
       "      <td>46.8</td>\n",
       "      <td>64.7</td>\n",
       "      <td>55.8</td>\n",
       "      <td>27.0</td>\n",
       "      <td>45.8</td>\n",
       "      <td>16.0</td>\n",
       "      <td>0.26</td>\n",
       "      <td>0.568854</td>\n",
       "      <td>0.463065</td>\n",
       "      <td>37.724724</td>\n",
       "    </tr>\n",
       "    <tr>\n",
       "      <th>10192</th>\n",
       "      <td>25481</td>\n",
       "      <td>12.5</td>\n",
       "      <td>0.25</td>\n",
       "      <td>0.25</td>\n",
       "      <td>0.38</td>\n",
       "      <td>0.50</td>\n",
       "      <td>94.6</td>\n",
       "      <td>57.2</td>\n",
       "      <td>79.0</td>\n",
       "      <td>68.2</td>\n",
       "      <td>33.0</td>\n",
       "      <td>55.9</td>\n",
       "      <td>34.0</td>\n",
       "      <td>0.56</td>\n",
       "      <td>0.407374</td>\n",
       "      <td>0.409261</td>\n",
       "      <td>31.881847</td>\n",
       "    </tr>\n",
       "    <tr>\n",
       "      <th>10193</th>\n",
       "      <td>25482</td>\n",
       "      <td>12.5</td>\n",
       "      <td>0.25</td>\n",
       "      <td>0.25</td>\n",
       "      <td>0.50</td>\n",
       "      <td>0.50</td>\n",
       "      <td>77.4</td>\n",
       "      <td>46.8</td>\n",
       "      <td>64.7</td>\n",
       "      <td>55.8</td>\n",
       "      <td>27.0</td>\n",
       "      <td>45.8</td>\n",
       "      <td>1.0</td>\n",
       "      <td>0.10</td>\n",
       "      <td>0.579677</td>\n",
       "      <td>0.486202</td>\n",
       "      <td>40.265408</td>\n",
       "    </tr>\n",
       "  </tbody>\n",
       "</table>\n",
       "<p>10194 rows × 17 columns</p>\n",
       "</div>"
      ],
      "text/plain": [
       "          id  clonesize  honeybee  bumbles  andrena  osmia  MaxOfUpperTRange  \\\n",
       "0      15289       25.0      0.25     0.25     0.25   0.25              86.0   \n",
       "1      15290       12.5      0.25     0.25     0.75   0.63              94.6   \n",
       "2      15291       12.5      0.25     0.25     0.63   0.63              86.0   \n",
       "3      15292       25.0      0.50     0.38     0.38   0.63              86.0   \n",
       "4      15293       37.5      0.75     0.25     0.25   0.25              94.6   \n",
       "...      ...        ...       ...      ...      ...    ...               ...   \n",
       "10189  25478       25.0      0.25     0.25     0.25   0.25              86.0   \n",
       "10190  25479       25.0      0.50     0.25     0.50   0.75              77.4   \n",
       "10191  25480       25.0      0.50     0.38     0.50   0.50              77.4   \n",
       "10192  25481       12.5      0.25     0.25     0.38   0.50              94.6   \n",
       "10193  25482       12.5      0.25     0.25     0.50   0.50              77.4   \n",
       "\n",
       "       MinOfUpperTRange  AverageOfUpperTRange  MaxOfLowerTRange  \\\n",
       "0                  52.0                  71.9              62.0   \n",
       "1                  57.2                  79.0              68.2   \n",
       "2                  52.0                  71.9              62.0   \n",
       "3                  52.0                  71.9              62.0   \n",
       "4                  57.2                  79.0              68.2   \n",
       "...                 ...                   ...               ...   \n",
       "10189              52.0                  71.9              62.0   \n",
       "10190              46.8                  64.7              55.8   \n",
       "10191              46.8                  64.7              55.8   \n",
       "10192              57.2                  79.0              68.2   \n",
       "10193              46.8                  64.7              55.8   \n",
       "\n",
       "       MinOfLowerTRange  AverageOfLowerTRange  RainingDays  \\\n",
       "0                  30.0                  50.8         24.0   \n",
       "1                  33.0                  55.9          1.0   \n",
       "2                  30.0                  50.8         16.0   \n",
       "3                  30.0                  50.8         16.0   \n",
       "4                  33.0                  55.9         24.0   \n",
       "...                 ...                   ...          ...   \n",
       "10189              30.0                  50.8         24.0   \n",
       "10190              27.0                  45.8         16.0   \n",
       "10191              27.0                  45.8         16.0   \n",
       "10192              33.0                  55.9         34.0   \n",
       "10193              27.0                  45.8          1.0   \n",
       "\n",
       "       AverageRainingDays  fruitset  fruitmass      seeds  \n",
       "0                    0.39  0.399367   0.408088  31.394569  \n",
       "1                    0.10  0.488048   0.442866  36.846956  \n",
       "2                    0.26  0.583379   0.487057  40.037644  \n",
       "3                    0.26  0.433014   0.422847  33.116091  \n",
       "4                    0.39  0.360996   0.388860  29.558019  \n",
       "...                   ...       ...        ...        ...  \n",
       "10189                0.39  0.474162   0.437923  34.525258  \n",
       "10190                0.26  0.482854   0.440676  35.648221  \n",
       "10191                0.26  0.568854   0.463065  37.724724  \n",
       "10192                0.56  0.407374   0.409261  31.881847  \n",
       "10193                0.10  0.579677   0.486202  40.265408  \n",
       "\n",
       "[10194 rows x 17 columns]"
      ]
     },
     "execution_count": 10,
     "metadata": {},
     "output_type": "execute_result"
    }
   ],
   "source": [
    "test_df"
   ]
  },
  {
   "cell_type": "code",
   "execution_count": 186,
   "id": "a1365719",
   "metadata": {},
   "outputs": [],
   "source": [
    "train_df.drop('id',axis=1,inplace=True)\n",
    "test_df.drop('id',axis=1,inplace=True)"
   ]
  },
  {
   "cell_type": "code",
   "execution_count": 59,
   "id": "1657c41d",
   "metadata": {},
   "outputs": [
    {
     "data": {
      "text/plain": [
       "<AxesSubplot:>"
      ]
     },
     "execution_count": 59,
     "metadata": {},
     "output_type": "execute_result"
    },
    {
     "data": {
      "image/png": "[encoded data removed]",
      "text/plain": [
       "<Figure size 1500x1000 with 2 Axes>"
      ]
     },
     "metadata": {},
     "output_type": "display_data"
    }
   ],
   "source": [
    "\n",
    "fig, ax = plt.subplots(figsize=(15,10)) \n",
    "sns.heatmap(train_df.corr(),annot=True)"
   ]
  },
  {
   "cell_type": "code",
   "execution_count": 37,
   "id": "e3689977",
   "metadata": {},
   "outputs": [],
   "source": [
    "corr_matrix = train_df.corr().abs()\n",
    "upper = corr_matrix.where(np.triu(np.ones(corr_matrix.shape), k=1).astype(bool))\n",
    "to_drop = [column for column in upper.columns if any(upper[column] > 0.95)]"
   ]
  },
  {
   "cell_type": "code",
   "execution_count": 45,
   "id": "f1c96c7a",
   "metadata": {},
   "outputs": [
    {
     "data": {
      "text/plain": [
       "Index(['clonesize', 'honeybee', 'bumbles', 'andrena', 'osmia',\n",
       "       'AverageOfUpperTRange', 'AverageOfLowerTRange', 'AverageRainingDays',\n",
       "       'fruitset', 'yield'],\n",
       "      dtype='object')"
      ]
     },
     "execution_count": 45,
     "metadata": {},
     "output_type": "execute_result"
    }
   ],
   "source": [
    "train_df.columns"
   ]
  },
  {
   "cell_type": "code",
   "execution_count": 56,
   "id": "3918704f",
   "metadata": {},
   "outputs": [],
   "source": [
    "to_drop = ['MaxOfUpperTRange', 'MinOfUpperTRange','MaxOfLowerTRange', 'MinOfLowerTRange','RainingDays','fruitmass', 'seeds','AverageOfUpperTRange']"
   ]
  },
  {
   "cell_type": "code",
   "execution_count": 151,
   "id": "0852a534",
   "metadata": {},
   "outputs": [],
   "source": [
    "train_df.drop(to_drop,axis=1,inplace=True)"
   ]
  },
  {
   "cell_type": "code",
   "execution_count": 152,
   "id": "caef0e82",
   "metadata": {},
   "outputs": [],
   "source": [
    "test_df.drop(to_drop,axis=1,inplace=True)"
   ]
  },
  {
   "cell_type": "code",
   "execution_count": 12,
   "id": "26ada7de",
   "metadata": {},
   "outputs": [
    {
     "data": {
      "text/plain": [
       "count    15289.000000\n",
       "mean        19.704690\n",
       "std          6.595211\n",
       "min         10.000000\n",
       "25%         12.500000\n",
       "50%         25.000000\n",
       "75%         25.000000\n",
       "max         40.000000\n",
       "Name: clonesize, dtype: float64"
      ]
     },
     "execution_count": 12,
     "metadata": {},
     "output_type": "execute_result"
    }
   ],
   "source": [
    "train_df.clonesize.describe()"
   ]
  },
  {
   "cell_type": "code",
   "execution_count": 13,
   "id": "4c537f02",
   "metadata": {},
   "outputs": [
    {
     "data": {
      "text/plain": [
       "25.0    8245\n",
       "12.5    6717\n",
       "37.5     265\n",
       "20.0      56\n",
       "10.0       4\n",
       "40.0       2\n",
       "Name: clonesize, dtype: int64"
      ]
     },
     "execution_count": 13,
     "metadata": {},
     "output_type": "execute_result"
    }
   ],
   "source": [
    "train_df.clonesize.value_counts()"
   ]
  },
  {
   "cell_type": "code",
   "execution_count": 14,
   "id": "221e5ac4",
   "metadata": {},
   "outputs": [
    {
     "data": {
      "text/plain": [
       "<AxesSubplot:xlabel='clonesize', ylabel='Density'>"
      ]
     },
     "execution_count": 14,
     "metadata": {},
     "output_type": "execute_result"
    },
    {
     "data": {
      "image/png": "[encoded data removed]",
      "text/plain": [
       "<Figure size 640x480 with 1 Axes>"
      ]
     },
     "metadata": {},
     "output_type": "display_data"
    }
   ],
   "source": [
    "sns.kdeplot(train_df.clonesize)"
   ]
  },
  {
   "cell_type": "code",
   "execution_count": 16,
   "id": "b5b6e200",
   "metadata": {},
   "outputs": [
    {
     "data": {
      "text/plain": [
       "<AxesSubplot:xlabel='clonesize', ylabel='yield'>"
      ]
     },
     "execution_count": 16,
     "metadata": {},
     "output_type": "execute_result"
    },
    {
     "data": {
      "image/png": "[encoded data removed]",
      "text/plain": [
       "<Figure size 640x480 with 1 Axes>"
      ]
     },
     "metadata": {},
     "output_type": "display_data"
    }
   ],
   "source": [
    "sns.barplot(data=train_df,x=train_df.clonesize,y= train_df['yield'])"
   ]
  },
  {
   "cell_type": "code",
   "execution_count": 68,
   "id": "948c76af",
   "metadata": {},
   "outputs": [
    {
     "data": {
      "text/plain": [
       "<AxesSubplot:xlabel='yield', ylabel='Density'>"
      ]
     },
     "execution_count": 68,
     "metadata": {},
     "output_type": "execute_result"
    },
    {
     "data": {
      "image/png": "[encoded data removed]",
      "text/plain": [
       "<Figure size 640x480 with 1 Axes>"
      ]
     },
     "metadata": {},
     "output_type": "display_data"
    }
   ],
   "source": [
    "sns.kdeplot((train_df['yield']))"
   ]
  },
  {
   "cell_type": "code",
   "execution_count": 187,
   "id": "4d8224f3",
   "metadata": {},
   "outputs": [],
   "source": [
    "X = train_df.drop('yield',axis=1)\n",
    "y = train_df['yield']"
   ]
  },
  {
   "cell_type": "code",
   "execution_count": 69,
   "id": "6a6126b4",
   "metadata": {},
   "outputs": [],
   "source": [
    "from sklearn.linear_model import LinearRegression"
   ]
  },
  {
   "cell_type": "code",
   "execution_count": 70,
   "id": "edc84385",
   "metadata": {},
   "outputs": [],
   "source": [
    "lr = LinearRegression()"
   ]
  },
  {
   "cell_type": "code",
   "execution_count": 188,
   "id": "88cceb3b",
   "metadata": {},
   "outputs": [],
   "source": [
    "lr_model = lr.fit(X,y)"
   ]
  },
  {
   "cell_type": "code",
   "execution_count": 189,
   "id": "c7de41b1",
   "metadata": {},
   "outputs": [
    {
     "data": {
      "text/plain": [
       "0.810092852838389"
      ]
     },
     "execution_count": 189,
     "metadata": {},
     "output_type": "execute_result"
    }
   ],
   "source": [
    "lr_model.score(X,y)"
   ]
  },
  {
   "cell_type": "code",
   "execution_count": 80,
   "id": "5aa4d548",
   "metadata": {},
   "outputs": [],
   "source": [
    "from sklearn.metrics import mean_squared_error, mean_absolute_error"
   ]
  },
  {
   "cell_type": "code",
   "execution_count": 193,
   "id": "ca0daade",
   "metadata": {},
   "outputs": [
    {
     "data": {
      "text/plain": [
       "339478.793177682"
      ]
     },
     "execution_count": 193,
     "metadata": {},
     "output_type": "execute_result"
    }
   ],
   "source": [
    "(mean_squared_error(y,lr_model.predict(X)))"
   ]
  },
  {
   "cell_type": "code",
   "execution_count": 194,
   "id": "0027a9a6",
   "metadata": {},
   "outputs": [
    {
     "data": {
      "text/plain": [
       "371.02062491699064"
      ]
     },
     "execution_count": 194,
     "metadata": {},
     "output_type": "execute_result"
    }
   ],
   "source": [
    "mean_absolute_error(y,lr_model.predict(X))"
   ]
  },
  {
   "cell_type": "code",
   "execution_count": 84,
   "id": "9f319aa1",
   "metadata": {},
   "outputs": [],
   "source": [
    "from sklearn.model_selection import cross_val_score"
   ]
  },
  {
   "cell_type": "code",
   "execution_count": 192,
   "id": "9a0e3c54",
   "metadata": {},
   "outputs": [
    {
     "data": {
      "text/plain": [
       "0.8061440802990386"
      ]
     },
     "execution_count": 192,
     "metadata": {},
     "output_type": "execute_result"
    }
   ],
   "source": [
    "np.mean(cross_val_score(lr,X,y))"
   ]
  },
  {
   "cell_type": "code",
   "execution_count": 86,
   "id": "9e3320c2",
   "metadata": {},
   "outputs": [],
   "source": [
    "from sklearn.tree import DecisionTreeRegressor"
   ]
  },
  {
   "cell_type": "code",
   "execution_count": 199,
   "id": "262ba43b",
   "metadata": {},
   "outputs": [],
   "source": [
    "dt= DecisionTreeRegressor(max_depth=8)"
   ]
  },
  {
   "cell_type": "code",
   "execution_count": 200,
   "id": "992d5268",
   "metadata": {},
   "outputs": [],
   "source": [
    "dt_model = dt.fit(X,y)"
   ]
  },
  {
   "cell_type": "code",
   "execution_count": 201,
   "id": "1e828466",
   "metadata": {},
   "outputs": [
    {
     "data": {
      "text/plain": [
       "0.8444701818447994"
      ]
     },
     "execution_count": 201,
     "metadata": {},
     "output_type": "execute_result"
    }
   ],
   "source": [
    "dt_model.score(X,y)"
   ]
  },
  {
   "cell_type": "code",
   "execution_count": 202,
   "id": "f508aa67",
   "metadata": {},
   "outputs": [
    {
     "data": {
      "text/plain": [
       "0.7946066617241108"
      ]
     },
     "execution_count": 202,
     "metadata": {},
     "output_type": "execute_result"
    }
   ],
   "source": [
    "np.mean(cross_val_score(dt,X,y))"
   ]
  },
  {
   "cell_type": "code",
   "execution_count": 203,
   "id": "8d0cf88d",
   "metadata": {},
   "outputs": [
    {
     "data": {
      "text/plain": [
       "278025.7392079079"
      ]
     },
     "execution_count": 203,
     "metadata": {},
     "output_type": "execute_result"
    }
   ],
   "source": [
    "mean_squared_error(y,dt_model.predict(X))"
   ]
  },
  {
   "cell_type": "code",
   "execution_count": 204,
   "id": "97b5e424",
   "metadata": {},
   "outputs": [
    {
     "data": {
      "text/plain": [
       "332.6267385296734"
      ]
     },
     "execution_count": 204,
     "metadata": {},
     "output_type": "execute_result"
    }
   ],
   "source": [
    "mean_absolute_error(y,dt_model.predict(X))"
   ]
  },
  {
   "cell_type": "code",
   "execution_count": 137,
   "id": "fdfecbd3",
   "metadata": {},
   "outputs": [],
   "source": [
    "from sklearn.ensemble import RandomForestRegressor, GradientBoostingRegressor"
   ]
  },
  {
   "cell_type": "code",
   "execution_count": 205,
   "id": "62cce74c",
   "metadata": {},
   "outputs": [],
   "source": [
    "rf = RandomForestRegressor(max_depth=8)"
   ]
  },
  {
   "cell_type": "code",
   "execution_count": 206,
   "id": "98be39a8",
   "metadata": {},
   "outputs": [],
   "source": [
    "rf_model = rf.fit(X,y)"
   ]
  },
  {
   "cell_type": "code",
   "execution_count": 207,
   "id": "3177557d",
   "metadata": {},
   "outputs": [
    {
     "data": {
      "text/plain": [
       "0.8550799300656013"
      ]
     },
     "execution_count": 207,
     "metadata": {},
     "output_type": "execute_result"
    }
   ],
   "source": [
    "rf_model.score(X,y)"
   ]
  },
  {
   "cell_type": "code",
   "execution_count": 208,
   "id": "39fdff25",
   "metadata": {},
   "outputs": [
    {
     "data": {
      "text/plain": [
       "0.8196465163122394"
      ]
     },
     "execution_count": 208,
     "metadata": {},
     "output_type": "execute_result"
    }
   ],
   "source": [
    "np.mean(cross_val_score(rf,X,y))"
   ]
  },
  {
   "cell_type": "code",
   "execution_count": 178,
   "id": "e06ebb81",
   "metadata": {},
   "outputs": [
    {
     "data": {
      "text/plain": [
       "258625.08827486244"
      ]
     },
     "execution_count": 178,
     "metadata": {},
     "output_type": "execute_result"
    }
   ],
   "source": [
    "mean_squared_error(y,rf_model.predict(X))"
   ]
  },
  {
   "cell_type": "code",
   "execution_count": 179,
   "id": "8f73c82d",
   "metadata": {},
   "outputs": [
    {
     "data": {
      "text/plain": [
       "323.6788501938168"
      ]
     },
     "execution_count": 179,
     "metadata": {},
     "output_type": "execute_result"
    }
   ],
   "source": [
    "mean_absolute_error(y,rf_model.predict(X))"
   ]
  },
  {
   "cell_type": "code",
   "execution_count": 220,
   "id": "ddad0fbf",
   "metadata": {},
   "outputs": [],
   "source": [
    "gb = GradientBoostingRegressor()"
   ]
  },
  {
   "cell_type": "code",
   "execution_count": 221,
   "id": "5ba5baa7",
   "metadata": {},
   "outputs": [],
   "source": [
    "gb_model = gb.fit(X,y)"
   ]
  },
  {
   "cell_type": "code",
   "execution_count": 222,
   "id": "2d430364",
   "metadata": {},
   "outputs": [
    {
     "data": {
      "text/plain": [
       "0.8335888621395232"
      ]
     },
     "execution_count": 222,
     "metadata": {},
     "output_type": "execute_result"
    }
   ],
   "source": [
    "gb_model.score(X,y)"
   ]
  },
  {
   "cell_type": "code",
   "execution_count": 223,
   "id": "79b74a8f",
   "metadata": {},
   "outputs": [
    {
     "data": {
      "text/plain": [
       "0.8217840416313761"
      ]
     },
     "execution_count": 223,
     "metadata": {},
     "output_type": "execute_result"
    }
   ],
   "source": [
    "np.mean(cross_val_score(gb,X,y))"
   ]
  },
  {
   "cell_type": "code",
   "execution_count": 224,
   "id": "769f9291",
   "metadata": {},
   "outputs": [
    {
     "data": {
      "text/plain": [
       "297477.23082862137"
      ]
     },
     "execution_count": 224,
     "metadata": {},
     "output_type": "execute_result"
    }
   ],
   "source": [
    "mean_squared_error(y,gb_model.predict(X))"
   ]
  },
  {
   "cell_type": "code",
   "execution_count": 225,
   "id": "4b1ac300",
   "metadata": {},
   "outputs": [
    {
     "data": {
      "text/plain": [
       "344.3005057348533"
      ]
     },
     "execution_count": 225,
     "metadata": {},
     "output_type": "execute_result"
    }
   ],
   "source": [
    "mean_absolute_error(y,gb_model.predict(X))"
   ]
  },
  {
   "cell_type": "code",
   "execution_count": 226,
   "id": "1551d71d",
   "metadata": {},
   "outputs": [],
   "source": [
    "submission = pd.read_csv('sample_submission.csv')"
   ]
  },
  {
   "cell_type": "code",
   "execution_count": 227,
   "id": "dd459deb",
   "metadata": {},
   "outputs": [],
   "source": [
    "submission['yield'] = gb_model.predict(test_df)"
   ]
  },
  {
   "cell_type": "code",
   "execution_count": 228,
   "id": "b952a525",
   "metadata": {},
   "outputs": [],
   "source": [
    "submission.to_csv('gb pred.csv',index=False)"
   ]
  },
  {
   "cell_type": "code",
   "execution_count": null,
   "id": "2f6c5606",
   "metadata": {},
   "outputs": [],
   "source": []
  },
  {
   "cell_type": "code",
   "execution_count": null,
   "id": "b39297b9",
   "metadata": {},
   "outputs": [],
   "source": [
    "\n"
   ]
  },
  {
   "cell_type": "code",
   "execution_count": null,
   "id": "40ca1b5f",
   "metadata": {},
   "outputs": [],
   "source": []
  }
 ],
 "metadata": {
  "kernelspec": {
   "display_name": "Python 3 (ipykernel)",
   "language": "python",
   "name": "python3"
  },
  "language_info": {
   "codemirror_mode": {
    "name": "ipython",
    "version": 3
   },
   "file_extension": ".py",
   "mimetype": "text/x-python",
   "name": "python",
   "nbconvert_exporter": "python",
   "pygments_lexer": "ipython3",
   "version": "3.9.13"
  }
 },
 "nbformat": 4,
 "nbformat_minor": 5
}
